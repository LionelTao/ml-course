{
 "cells": [
  {
   "cell_type": "code",
   "execution_count": 19,
   "metadata": {
    "collapsed": false
   },
   "outputs": [
    {
     "data": {
      "text/plain": [
       "(506, 13)"
      ]
     },
     "execution_count": 19,
     "metadata": {},
     "output_type": "execute_result"
    }
   ],
   "source": [
    "from sklearn.datasets import load_boston\n",
    "\n",
    "boston = load_boston()\n",
    "X = boston.data\n",
    "y = boston.target\n",
    "X.shape\n",
    "\n"
   ]
  },
  {
   "cell_type": "code",
   "execution_count": 3,
   "metadata": {
    "collapsed": false
   },
   "outputs": [
    {
     "data": {
      "text/plain": [
       "array(['CRIM', 'ZN', 'INDUS', 'CHAS', 'NOX', 'RM', 'AGE', 'DIS', 'RAD',\n",
       "       'TAX', 'PTRATIO', 'B', 'LSTAT'], \n",
       "      dtype='<U7')"
      ]
     },
     "execution_count": 3,
     "metadata": {},
     "output_type": "execute_result"
    }
   ],
   "source": [
    "boston.feature_names"
   ]
  },
  {
   "cell_type": "code",
   "execution_count": null,
   "metadata": {
    "collapsed": true
   },
   "outputs": [],
   "source": [
    "#选取20%作为测试数据集"
   ]
  },
  {
   "cell_type": "code",
   "execution_count": 26,
   "metadata": {
    "collapsed": false
   },
   "outputs": [],
   "source": [
    "from sklearn.model_selection import train_test_split\n",
    "X_train, X_test, y_train, y_test = train_test_split(X, y, test_size=0.2, random_state=3)"
   ]
  },
  {
   "cell_type": "code",
   "execution_count": 31,
   "metadata": {
    "collapsed": false
   },
   "outputs": [
    {
     "name": "stdout",
     "output_type": "stream",
     "text": [
      "elaspe:  0.016665; train_score: 0.731868; cv_score:  0.825258\n"
     ]
    }
   ],
   "source": [
    "\n",
    "import time\n",
    "from sklearn.linear_model import LinearRegression\n",
    "\n",
    "model = LinearRegression()\n",
    "\n",
    "start = time.clock()\n",
    "model.fit(X_train, y_train)\n",
    "\n",
    "train_score = model.score(X_train, y_train)\n",
    "cv_score = model.score(X_test, y_test)\n",
    "print('elaspe: {0: .6f}; train_score: {1:0.6f}; cv_score: {2: .6f}'.format(time.clock() - start, train_score, cv_score))"
   ]
  },
  {
   "cell_type": "code",
   "execution_count": 22,
   "metadata": {
    "collapsed": true
   },
   "outputs": [],
   "source": [
    "#############  model optimize ############"
   ]
  },
  {
   "cell_type": "code",
   "execution_count": 23,
   "metadata": {
    "collapsed": false,
    "scrolled": true
   },
   "outputs": [
    {
     "data": {
      "text/plain": [
       "array([[  7.25800000e-01,   0.00000000e+00,   8.14000000e+00, ...,\n",
       "          2.10000000e+01,   3.90950000e+02,   1.12800000e+01],\n",
       "       [  2.25971000e+01,   0.00000000e+00,   1.81000000e+01, ...,\n",
       "          2.02000000e+01,   3.96900000e+02,   3.19900000e+01],\n",
       "       [  3.77498000e+00,   0.00000000e+00,   1.81000000e+01, ...,\n",
       "          2.02000000e+01,   2.20100000e+01,   1.71500000e+01],\n",
       "       ..., \n",
       "       [  1.90730000e-01,   2.20000000e+01,   5.86000000e+00, ...,\n",
       "          1.91000000e+01,   3.93740000e+02,   6.56000000e+00],\n",
       "       [  1.12658000e+00,   0.00000000e+00,   1.95800000e+01, ...,\n",
       "          1.47000000e+01,   3.43280000e+02,   1.21200000e+01],\n",
       "       [  3.67822000e+00,   0.00000000e+00,   1.81000000e+01, ...,\n",
       "          2.02000000e+01,   3.80790000e+02,   1.01900000e+01]])"
      ]
     },
     "execution_count": 23,
     "metadata": {},
     "output_type": "execute_result"
    }
   ],
   "source": [
    "X_train"
   ]
  },
  {
   "cell_type": "code",
   "execution_count": 24,
   "metadata": {
    "collapsed": true
   },
   "outputs": [],
   "source": [
    "#特征数据的范围相差比较大，最小在10^-3级别，最大在10^2级别， 归一化处理\n",
    "#加快算法收敛速度，提升算法效率，但是并不会优化算法准确性\n",
    "\n",
    "#上面的模型针对训练样本得分不高，测试样本的得分也不高，存在一定欠拟合\n",
    "#下面例子仅从增加多项式特征方向来优化，其实就是增加模型复杂度"
   ]
  },
  {
   "cell_type": "code",
   "execution_count": 32,
   "metadata": {
    "collapsed": false
   },
   "outputs": [
    {
     "name": "stdout",
     "output_type": "stream",
     "text": [
      "elaspe:  0.145598; train_score: 1.000000; cv_score: -507146.058971\n"
     ]
    }
   ],
   "source": [
    "import time\n",
    "from sklearn.linear_model import LinearRegression\n",
    "from sklearn.preprocessing import PolynomialFeatures\n",
    "from sklearn.pipeline import Pipeline\n",
    "\n",
    "def polynomial_model(degree = 1):\n",
    "    polynomial_features = PolynomialFeatures(degree=degree, include_bias=False)\n",
    "    liner_regression = LinearRegression(normalize=True)\n",
    "    pipline = Pipeline([(\"polynomial_features\", polynomial_features), (\"liner_regression\", liner_regression)])\n",
    "    \n",
    "    return pipline\n",
    "\n",
    "model = polynomial_model(degree=3)\n",
    "\n",
    "start = time.clock()\n",
    "model.fit(X_train, y_train)\n",
    "\n",
    "train_score = model.score(X_train, y_train)\n",
    "cv_score = model.score(X_test, y_test)\n",
    "print('elaspe: {0: .6f}; train_score: {1:0.6f}; cv_score: {2: .6f}'.format(time.clock() - start, train_score, cv_score))\n",
    "\n",
    "\n",
    "\n"
   ]
  },
  {
   "cell_type": "code",
   "execution_count": null,
   "metadata": {
    "collapsed": true
   },
   "outputs": [],
   "source": [
    "#当使用二阶多项式拟合数据， 训练样本评分有提升，测试数据评分提高了，模型确实得到了优化\n",
    "#当使用三阶多项式拟合数据，训练样本评分达到了1，测试数据评分却变成了负数，说明模型过拟合了。训练样本数量不够"
   ]
  }
 ],
 "metadata": {
  "anaconda-cloud": {},
  "kernelspec": {
   "display_name": "Python [conda root]",
   "language": "python",
   "name": "conda-root-py"
  },
  "language_info": {
   "codemirror_mode": {
    "name": "ipython",
    "version": 3
   },
   "file_extension": ".py",
   "mimetype": "text/x-python",
   "name": "python",
   "nbconvert_exporter": "python",
   "pygments_lexer": "ipython3",
   "version": "3.5.2"
  }
 },
 "nbformat": 4,
 "nbformat_minor": 1
}
