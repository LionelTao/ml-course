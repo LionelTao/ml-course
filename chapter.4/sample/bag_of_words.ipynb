{
 "cells": [
  {
   "cell_type": "code",
   "execution_count": 1,
   "metadata": {
    "collapsed": true
   },
   "outputs": [],
   "source": [
    "#电影文本情感分类"
   ]
  },
  {
   "cell_type": "code",
   "execution_count": 2,
   "metadata": {},
   "outputs": [
    {
     "name": "stdout",
     "output_type": "stream",
     "text": [
      "这个任务主要是对电影评论文本进行情感分类，主要分为正面评论和负面评论，所以是一个二分类问题，二分类模型我们可以选取一些常见的模型比如贝叶斯、逻辑回归等，这里挑战之一是文本内容的向量化，因此，我们基于TF-IDF的向量化方法\n"
     ]
    }
   ],
   "source": [
    "print('这个任务主要是对电影评论文本进行情感分类，主要分为正面评论和负面评论，所以是一个二分类问题，二分类模型我们可以选取一些常见的模型比如贝叶斯、逻辑回归等，这里挑战之一是文本内容的向量化，因此，我们基于TF-IDF的向量化方法')"
   ]
  },
  {
   "cell_type": "code",
   "execution_count": 3,
   "metadata": {
    "collapsed": true
   },
   "outputs": [],
   "source": [
    "import pandas as pd\n",
    "import numpy as np\n",
    "import re\n",
    "from bs4 import BeautifulSoup"
   ]
  },
  {
   "cell_type": "code",
   "execution_count": 4,
   "metadata": {},
   "outputs": [
    {
     "name": "stdout",
     "output_type": "stream",
     "text": [
      "         id  sentiment                                             review\n",
      "0  \"5814_8\"          1  \"With all this stuff going down at the moment ...\n",
      "1  \"2381_9\"          1  \"\\\"The Classic War of the Worlds\\\" by Timothy ...\n",
      "2  \"7759_3\"          0  \"The film starts with a manager (Nicholas Bell...\n",
      "3  \"3630_4\"          0  \"It must be assumed that those who praised thi...\n",
      "4  \"9495_8\"          1  \"Superbly trashy and wondrously unpretentious ...\n",
      "           id                                             review\n",
      "0  \"12311_10\"  \"Naturally in a film who's main themes are of ...\n",
      "1    \"8348_2\"  \"This movie is a disaster within a disaster fi...\n",
      "2    \"5828_4\"  \"All in all, this is a movie for kids. We saw ...\n",
      "3    \"7186_2\"  \"Afraid of the Dark left me with the impressio...\n",
      "4   \"12128_7\"  \"A very accurate depiction of small time mob l...\n",
      "\"With all this stuff going down at the moment with MJ i've started listening to his music, watching the odd documentary here and there, watched The Wiz and watched Moonwalker again. Maybe i just want to get a certain insight into this guy who i thought was really cool in the eighties just to maybe make up my mind whether he is guilty or innocent. Moonwalker is part biography, part feature film which i remember going to see at the cinema when it was originally released. Some of it has subtle messages about MJ's feeling towards the press and also the obvious message of drugs are bad m'kay.<br /><br />Visually impressive but of course this is all about Michael Jackson so unless you remotely like MJ in anyway then you are going to hate this and find it boring. Some may call MJ an egotist for consenting to the making of this movie BUT MJ and most of his fans would say that he made it for the fans which if true is really nice of him.<br /><br />The actual feature film bit when it finally starts is only on for 20 minutes or so excluding the Smooth Criminal sequence and Joe Pesci is convincing as a psychopathic all powerful drug lord. Why he wants MJ dead so bad is beyond me. Because MJ overheard his plans? Nah, Joe Pesci's character ranted that he wanted people to know it is he who is supplying drugs etc so i dunno, maybe he just hates MJ's music.<br /><br />Lots of cool things in this like MJ turning into a car and a robot and the whole Speed Demon sequence. Also, the director must have had the patience of a saint when it came to filming the kiddy Bad sequence as usually directors hate working with one kid let alone a whole bunch of them performing a complex dance scene.<br /><br />Bottom line, this movie is for people who like MJ on one level or another (which i think is most people). If not, then stay away. It does try and give off a wholesome message and ironically MJ's bestest buddy in this movie is a girl! Michael Jackson is truly one of the most talented people ever to grace this planet but is he guilty? Well, with all the attention i've gave this subject....hmmm well i don't know because people can be different behind closed doors, i know this for a fact. He is either an extremely nice but stupid guy or one of the most sickest liars. I hope he is not the latter.\"\n"
     ]
    }
   ],
   "source": [
    "train = pd.read_csv('data/labeledTrainData.tsv', header = 0, delimiter=\"\\t\", quoting=3)\n",
    "test = pd.read_csv('data/testData.tsv', header = 0, delimiter=\"\\t\", quoting=3)\n",
    "print(train.head())\n",
    "print(test.head())\n",
    "print(train.review[0])"
   ]
  },
  {
   "cell_type": "code",
   "execution_count": 5,
   "metadata": {},
   "outputs": [
    {
     "name": "stdout",
     "output_type": "stream",
     "text": [
      "预处理数据\n"
     ]
    }
   ],
   "source": [
    "print('预处理数据')"
   ]
  },
  {
   "cell_type": "code",
   "execution_count": 6,
   "metadata": {
    "collapsed": true
   },
   "outputs": [],
   "source": [
    "def review_to_wordlist(review):\n",
    "    review_text = BeautifulSoup(review, \"html.parser\").get_text()\n",
    "    review_text = re.sub(\"[^a-zA-Z]\",\" \", review_text)\n",
    "    words = review_text.lower().split()\n",
    "    return words"
   ]
  },
  {
   "cell_type": "code",
   "execution_count": 7,
   "metadata": {
    "scrolled": true
   },
   "outputs": [
    {
     "name": "stdout",
     "output_type": "stream",
     "text": [
      "with all this stuff going down at the moment with mj i ve started listening to his music watching the odd documentary here and there watched the wiz and watched moonwalker again maybe i just want to get a certain insight into this guy who i thought was really cool in the eighties just to maybe make up my mind whether he is guilty or innocent moonwalker is part biography part feature film which i remember going to see at the cinema when it was originally released some of it has subtle messages about mj s feeling towards the press and also the obvious message of drugs are bad m kay visually impressive but of course this is all about michael jackson so unless you remotely like mj in anyway then you are going to hate this and find it boring some may call mj an egotist for consenting to the making of this movie but mj and most of his fans would say that he made it for the fans which if true is really nice of him the actual feature film bit when it finally starts is only on for minutes or so excluding the smooth criminal sequence and joe pesci is convincing as a psychopathic all powerful drug lord why he wants mj dead so bad is beyond me because mj overheard his plans nah joe pesci s character ranted that he wanted people to know it is he who is supplying drugs etc so i dunno maybe he just hates mj s music lots of cool things in this like mj turning into a car and a robot and the whole speed demon sequence also the director must have had the patience of a saint when it came to filming the kiddy bad sequence as usually directors hate working with one kid let alone a whole bunch of them performing a complex dance scene bottom line this movie is for people who like mj on one level or another which i think is most people if not then stay away it does try and give off a wholesome message and ironically mj s bestest buddy in this movie is a girl michael jackson is truly one of the most talented people ever to grace this planet but is he guilty well with all the attention i ve gave this subject hmmm well i don t know because people can be different behind closed doors i know this for a fact he is either an extremely nice but stupid guy or one of the most sickest liars i hope he is not the latter\n",
      "\n",
      "naturally in a film who s main themes are of mortality nostalgia and loss of innocence it is perhaps not surprising that it is rated more highly by older viewers than younger ones however there is a craftsmanship and completeness to the film which anyone can enjoy the pace is steady and constant the characters full and engaging the relationships and interactions natural showing that you do not need floods of tears to show emotion screams to show fear shouting to show dispute or violence to show anger naturally joyce s short story lends the film a ready made structure as perfect as a polished diamond but the small changes huston makes such as the inclusion of the poem fit in neatly it is truly a masterpiece of tact subtlety and overwhelming beauty\n"
     ]
    }
   ],
   "source": [
    "label = train.sentiment\n",
    "train_data = []\n",
    "for i in range(len(train.review)):\n",
    "    train_data.append(' '.join(review_to_wordlist(train.review[i])))\n",
    "test_data = []\n",
    "for i in range(len(test.review)):\n",
    "    test_data.append(' '.join(review_to_wordlist(test.review[i])))\n",
    "print(train_data[0] + '\\n')\n",
    "print(test_data[0])"
   ]
  },
  {
   "cell_type": "code",
   "execution_count": 20,
   "metadata": {},
   "outputs": [
    {
     "name": "stdout",
     "output_type": "stream",
     "text": [
      "TF-IDF是一种统计方法，用以评估一字词对于一个文件集或一个语料库中的其中一份文件的重要程度。字词的重要性随着它在文件中出现的次数成正比增加，但同时会随着它在语料库中出现的频率成反比下降。\n"
     ]
    }
   ],
   "source": [
    "print('TF-IDF是一种统计方法，用以评估一字词对于一个文件集或一个语料库中的其中一份文件的重要程度。字词的重要性随着它在文件中出现的次数成正比增加，但同时会随着它在语料库中出现的频率成反比下降。')"
   ]
  },
  {
   "cell_type": "code",
   "execution_count": null,
   "metadata": {
    "collapsed": true
   },
   "outputs": [],
   "source": [
    "# 一个词语在一篇文章中出现次数越多, 同时在所有文档中出现次数越少, 越能够代表该文章."
   ]
  },
  {
   "cell_type": "code",
   "execution_count": 8,
   "metadata": {},
   "outputs": [],
   "source": [
    "from sklearn.feature_extraction.text import TfidfVectorizer as TFIDF\n",
    "\n",
    "tfidf = TFIDF(min_df=2, \n",
    "           max_features=None,\n",
    "           strip_accents='unicode',\n",
    "           analyzer='word',\n",
    "           token_pattern=r'\\w{1,}',\n",
    "           ngram_range=(1, 3), \n",
    "           use_idf=1,\n",
    "           smooth_idf=1,\n",
    "           sublinear_tf=1,\n",
    "           stop_words = 'english') \n",
    "\n",
    "data_all = train_data + test_data\n",
    "len_train = len(train_data)\n",
    "\n",
    "tfidf.fit(data_all)\n",
    "data_all = tfidf.transform(data_all)\n"
   ]
  },
  {
   "cell_type": "code",
   "execution_count": 19,
   "metadata": {},
   "outputs": [
    {
     "name": "stdout",
     "output_type": "stream",
     "text": [
      "  (0, 796959)\t0.0343760516998\n",
      "  (0, 790825)\t0.0716244308221\n",
      "  (0, 786712)\t0.0815014592846\n",
      "  (0, 786705)\t0.0559914737099\n",
      "  (0, 778672)\t0.0750603797157\n",
      "  (0, 777654)\t0.0219171007219\n",
      "  (0, 776802)\t0.0453804307396\n",
      "  (0, 771362)\t0.0313540287069\n",
      "  (0, 771095)\t0.0723489699488\n",
      "  (0, 770825)\t0.0305787243583\n",
      "  (0, 769621)\t0.023539814545\n",
      "  (0, 766289)\t0.0750603797157\n",
      "  (0, 766251)\t0.0436165450281\n",
      "  (0, 759942)\t0.0716244308221\n",
      "  (0, 758981)\t0.0776182103797\n",
      "  (0, 758758)\t0.0367484482649\n",
      "  (0, 756463)\t0.0815014592846\n",
      "  (0, 756379)\t0.0329447316857\n",
      "  (0, 751916)\t0.0353114205419\n",
      "  (0, 743751)\t0.0406743682553\n",
      "  (0, 741131)\t0.0283481922365\n",
      "  (0, 740669)\t0.0697911392848\n",
      "  (0, 740128)\t0.028888656824\n",
      "  (0, 739871)\t0.0692666618895\n",
      "  (0, 739390)\t0.0270457261238\n",
      "  :\t:\n",
      "  (0, 121946)\t0.0391521032998\n",
      "  (0, 111843)\t0.0709629784229\n",
      "  (0, 111835)\t0.0498465261844\n",
      "  (0, 106245)\t0.0308295513115\n",
      "  (0, 95228)\t0.0201852863551\n",
      "  (0, 92446)\t0.0345373024382\n",
      "  (0, 85250)\t0.0793145269131\n",
      "  (0, 84971)\t0.0329191933402\n",
      "  (0, 82142)\t0.0288836572138\n",
      "  (0, 78790)\t0.0345373024382\n",
      "  (0, 77228)\t0.0674696563736\n",
      "  (0, 77173)\t0.0441002216534\n",
      "  (0, 68543)\t0.0288636915896\n",
      "  (0, 61216)\t0.0815014592846\n",
      "  (0, 60875)\t0.0250666694078\n",
      "  (0, 60639)\t0.0518134731295\n",
      "  (0, 56535)\t0.0762322188538\n",
      "  (0, 43892)\t0.0762322188538\n",
      "  (0, 43106)\t0.0626114299327\n",
      "  (0, 41696)\t0.0390069290538\n",
      "  (0, 38741)\t0.0731499107944\n",
      "  (0, 38564)\t0.0254100896246\n",
      "  (0, 35013)\t0.0333970721068\n",
      "  (0, 10510)\t0.0815014592846\n",
      "  (0, 10439)\t0.0351103761491\n",
      "  (0, 805350)\t0.0389668418239\n",
      "  (0, 798892)\t0.1161623245\n",
      "  (0, 798891)\t0.1161623245\n",
      "  (0, 798872)\t0.0699768741847\n",
      "  (0, 784342)\t0.1161623245\n",
      "  (0, 784341)\t0.187308827813\n",
      "  (0, 784339)\t0.133683495381\n",
      "  (0, 777002)\t0.0668981034038\n",
      "  (0, 776802)\t0.0382009190281\n",
      "  (0, 772464)\t0.1161623245\n",
      "  (0, 772462)\t0.0856794722512\n",
      "  (0, 771789)\t0.0434197514833\n",
      "  (0, 761344)\t0.113045335552\n",
      "  (0, 761343)\t0.105535197425\n",
      "  (0, 760696)\t0.0420770496122\n",
      "  (0, 730955)\t0.0799302005648\n",
      "  (0, 730913)\t0.0530598795628\n",
      "  (0, 728878)\t0.102084802509\n",
      "  (0, 728859)\t0.0734910411449\n",
      "  (0, 716921)\t0.0721059871416\n",
      "  (0, 716241)\t0.0338403232201\n",
      "  (0, 684915)\t0.0994718504426\n",
      "  (0, 684900)\t0.0651353228496\n",
      "  (0, 666364)\t0.110627611092\n",
      "  (0, 666258)\t0.0554243614631\n",
      "  :\t:\n",
      "  (0, 184292)\t0.0498181831201\n",
      "  (0, 174588)\t0.0419499645625\n",
      "  (0, 163078)\t0.113045335552\n",
      "  (0, 163075)\t0.0912141856584\n",
      "  (0, 162463)\t0.0385421153371\n",
      "  (0, 138167)\t0.0715626223078\n",
      "  (0, 137414)\t0.1161623245\n",
      "  (0, 137361)\t0.1161623245\n",
      "  (0, 137326)\t0.120695178697\n",
      "  (0, 137301)\t0.077235612657\n",
      "  (0, 117879)\t0.108652186372\n",
      "  (0, 117110)\t0.037731782152\n",
      "  (0, 109346)\t0.108652186372\n",
      "  (0, 109135)\t0.0919617123153\n",
      "  (0, 108812)\t0.103117472965\n",
      "  (0, 108749)\t0.086045517448\n",
      "  (0, 67472)\t0.105535197425\n",
      "  (0, 67457)\t0.110627611092\n",
      "  (0, 66938)\t0.0716404484563\n",
      "  (0, 47319)\t0.0880971967108\n",
      "  (0, 28652)\t0.105535197425\n",
      "  (0, 28634)\t0.064081966754\n",
      "  (0, 20497)\t0.064081966754\n",
      "  (0, 16814)\t0.102084802509\n",
      "  (0, 16781)\t0.0522676115937\n"
     ]
    }
   ],
   "source": [
    "\n",
    "train_x = data_all[:len_train]\n",
    "test_x = data_all[len_train:]\n",
    "print(train_x[0])\n",
    "print(train_x[1])"
   ]
  },
  {
   "cell_type": "code",
   "execution_count": 9,
   "metadata": {},
   "outputs": [
    {
     "name": "stderr",
     "output_type": "stream",
     "text": [
      "C:\\ProgramData\\Anaconda3\\lib\\site-packages\\sklearn\\cross_validation.py:44: DeprecationWarning: This module was deprecated in version 0.18 in favor of the model_selection module into which all the refactored classes and functions are moved. Also note that the interface of the new CV iterators are different from that of this module. This module will be removed in 0.20.\n",
      "  \"This module will be removed in 0.20.\", DeprecationWarning)\n"
     ]
    },
    {
     "name": "stdout",
     "output_type": "stream",
     "text": [
      "多项式贝叶斯分类器10折交叉验证得分:  0.949842816\n"
     ]
    }
   ],
   "source": [
    "from sklearn.naive_bayes import MultinomialNB as MNB\n",
    "\n",
    "model_NB = MNB()\n",
    "model_NB.fit(train_x, label)\n",
    "MNB(alpha=1.0, class_prior=None, fit_prior=True)\n",
    "\n",
    "from sklearn.cross_validation import cross_val_score\n",
    "print(\"多项式贝叶斯分类器10折交叉验证得分: \", np.mean(cross_val_score(model_NB, train_x, label, cv=10, scoring='roc_auc')))"
   ]
  },
  {
   "cell_type": "code",
   "execution_count": 10,
   "metadata": {},
   "outputs": [
    {
     "name": "stdout",
     "output_type": "stream",
     "text": [
      "save result\n",
      "save finish\n"
     ]
    }
   ],
   "source": [
    "test_predicted = np.array(model_NB.predict(test_x))\n",
    "print('save result')\n",
    "nb_output = pd.DataFrame(data=test_predicted, columns=['sentiment'])\n",
    "nb_output['id'] = test['id'].str.replace('\\\"',\"\")\n",
    "nb_output = nb_output[['id','sentiment']]\n",
    "nb_output.to_csv('nb_output.csv',index=False)\n",
    "print('save finish')"
   ]
  },
  {
   "cell_type": "code",
   "execution_count": 11,
   "metadata": {},
   "outputs": [
    {
     "name": "stderr",
     "output_type": "stream",
     "text": [
      "C:\\ProgramData\\Anaconda3\\lib\\site-packages\\sklearn\\grid_search.py:43: DeprecationWarning: This module was deprecated in version 0.18 in favor of the model_selection module into which all the refactored classes and functions are moved. This module will be removed in 0.20.\n",
      "  DeprecationWarning)\n"
     ]
    },
    {
     "name": "stdout",
     "output_type": "stream",
     "text": [
      "[mean: 0.96497, std: 0.00475, params: {'C': 30}]\n"
     ]
    }
   ],
   "source": [
    "from sklearn.linear_model import LogisticRegression as LR\n",
    "from sklearn.grid_search import GridSearchCV\n",
    "\n",
    "# 设定grid search的参数\n",
    "grid_values = {'C':[30]}  \n",
    "# 设定打分为roc_auc\n",
    "model_LR = GridSearchCV(LR( dual = True, random_state = 0), grid_values, scoring = 'roc_auc', cv = 20)\n",
    "model_LR.fit(train_x, label)\n",
    "# 20折交叉验证\n",
    "GridSearchCV(cv=20, estimator=LR(C=1.0, class_weight=None, dual=True,\n",
    "             fit_intercept=True, intercept_scaling=1, penalty='L2', random_state=0, tol=0.0001),\n",
    "        fit_params={}, iid=True, n_jobs=1,\n",
    "        param_grid={'C': [30]}, pre_dispatch='2*n_jobs', refit=True,\n",
    "        scoring='roc_auc', verbose=0)\n",
    "#输出结果\n",
    "print(model_LR.grid_scores_)"
   ]
  },
  {
   "cell_type": "code",
   "execution_count": 12,
   "metadata": {},
   "outputs": [
    {
     "name": "stdout",
     "output_type": "stream",
     "text": [
      "保存结果...\n",
      "结束.\n"
     ]
    }
   ],
   "source": [
    "test_predicted = np.array(model_LR.predict(test_x))\n",
    "print('保存结果...')\n",
    "lr_output = pd.DataFrame(data=test_predicted, columns=['sentiment'])\n",
    "lr_output['id'] = test['id'].str.replace('\\\"',\"\")\n",
    "lr_output = lr_output[['id', 'sentiment']]\n",
    "lr_output.to_csv('lr_output.csv', index=False)\n",
    "print('结束.')"
   ]
  },
  {
   "cell_type": "code",
   "execution_count": null,
   "metadata": {
    "collapsed": true
   },
   "outputs": [],
   "source": []
  }
 ],
 "metadata": {
  "kernelspec": {
   "display_name": "Python 3",
   "language": "python",
   "name": "python3"
  },
  "language_info": {
   "codemirror_mode": {
    "name": "ipython",
    "version": 3
   },
   "file_extension": ".py",
   "mimetype": "text/x-python",
   "name": "python",
   "nbconvert_exporter": "python",
   "pygments_lexer": "ipython3",
   "version": "3.6.6"
  }
 },
 "nbformat": 4,
 "nbformat_minor": 2
}
